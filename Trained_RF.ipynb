{
  "cells": [
    {
      "cell_type": "markdown",
      "metadata": {
        "id": "view-in-github",
        "colab_type": "text"
      },
      "source": [
        "<a href=\"https://colab.research.google.com/github/mozey256/OSCAAR/blob/main/Trained_RF.ipynb\" target=\"_parent\"><img src=\"https://colab.research.google.com/assets/colab-badge.svg\" alt=\"Open In Colab\"/></a>"
      ]
    },
    {
      "cell_type": "code",
      "execution_count": null,
      "metadata": {
        "id": "nnC8j3xtw7aS"
      },
      "outputs": [],
      "source": [
        "import pandas as pd\n",
        "from sklearn.model_selection import train_test_split\n",
        "from sklearn.ensemble import RandomForestClassifier\n",
        "from sklearn.metrics import accuracy_score, roc_curve, roc_auc_score\n",
        "import matplotlib.pyplot as plt\n"
      ]
    },
    {
      "cell_type": "code",
      "execution_count": null,
      "metadata": {
        "id": "f7pMuLnZxJM4"
      },
      "outputs": [],
      "source": [
        "df = pd.read_csv('/content/ML_training_data.csv')"
      ]
    },
    {
      "cell_type": "code",
      "execution_count": null,
      "metadata": {
        "colab": {
          "base_uri": "https://localhost:8080/",
          "height": 255
        },
        "id": "ny8KBV5y2pdG",
        "outputId": "7bee4dd7-3720-4a81-cefd-15bee07eab7b"
      },
      "outputs": [
        {
          "data": {
            "application/vnd.google.colaboratory.intrinsic+json": {
              "type": "dataframe",
              "variable_name": "df"
            },
            "text/html": [
              "\n",
              "  <div id=\"df-8f138765-f85f-46e1-8aa4-7b78f51aa0a7\" class=\"colab-df-container\">\n",
              "    <div>\n",
              "<style scoped>\n",
              "    .dataframe tbody tr th:only-of-type {\n",
              "        vertical-align: middle;\n",
              "    }\n",
              "\n",
              "    .dataframe tbody tr th {\n",
              "        vertical-align: top;\n",
              "    }\n",
              "\n",
              "    .dataframe thead th {\n",
              "        text-align: right;\n",
              "    }\n",
              "</style>\n",
              "<table border=\"1\" class=\"dataframe\">\n",
              "  <thead>\n",
              "    <tr style=\"text-align: right;\">\n",
              "      <th></th>\n",
              "      <th>Drug 1</th>\n",
              "      <th>Drug2</th>\n",
              "      <th>Combination</th>\n",
              "      <th>0</th>\n",
              "      <th>1</th>\n",
              "      <th>2</th>\n",
              "      <th>3</th>\n",
              "      <th>4</th>\n",
              "      <th>5</th>\n",
              "      <th>6</th>\n",
              "      <th>...</th>\n",
              "      <th>Joint_Substructure_159</th>\n",
              "      <th>Joint_Substructure_160</th>\n",
              "      <th>Joint_Substructure_161</th>\n",
              "      <th>Joint_Substructure_162</th>\n",
              "      <th>Joint_Substructure_163</th>\n",
              "      <th>Joint_Substructure_164</th>\n",
              "      <th>Joint_Substructure_165</th>\n",
              "      <th>Joint_Substructure_166</th>\n",
              "      <th>Joint_Substructure_167</th>\n",
              "      <th>Synergy</th>\n",
              "    </tr>\n",
              "  </thead>\n",
              "  <tbody>\n",
              "    <tr>\n",
              "      <th>0</th>\n",
              "      <td>2aminobenzothiazole</td>\n",
              "      <td>fluconazole</td>\n",
              "      <td>2aminobenzothiazole+fluconazole</td>\n",
              "      <td>0</td>\n",
              "      <td>0</td>\n",
              "      <td>1</td>\n",
              "      <td>1</td>\n",
              "      <td>1</td>\n",
              "      <td>1</td>\n",
              "      <td>1</td>\n",
              "      <td>...</td>\n",
              "      <td>2</td>\n",
              "      <td>0</td>\n",
              "      <td>0</td>\n",
              "      <td>2</td>\n",
              "      <td>2</td>\n",
              "      <td>2</td>\n",
              "      <td>1</td>\n",
              "      <td>2</td>\n",
              "      <td>0</td>\n",
              "      <td>No</td>\n",
              "    </tr>\n",
              "    <tr>\n",
              "      <th>1</th>\n",
              "      <td>2hydroxyethylhydrazine</td>\n",
              "      <td>fluconazole</td>\n",
              "      <td>2hydroxyethylhydrazine+fluconazole</td>\n",
              "      <td>0</td>\n",
              "      <td>0</td>\n",
              "      <td>1</td>\n",
              "      <td>2</td>\n",
              "      <td>1</td>\n",
              "      <td>2</td>\n",
              "      <td>2</td>\n",
              "      <td>...</td>\n",
              "      <td>2</td>\n",
              "      <td>0</td>\n",
              "      <td>0</td>\n",
              "      <td>2</td>\n",
              "      <td>1</td>\n",
              "      <td>1</td>\n",
              "      <td>2</td>\n",
              "      <td>1</td>\n",
              "      <td>0</td>\n",
              "      <td>No</td>\n",
              "    </tr>\n",
              "    <tr>\n",
              "      <th>2</th>\n",
              "      <td>3aminotriazole</td>\n",
              "      <td>fluconazole</td>\n",
              "      <td>3aminotriazole+fluconazole</td>\n",
              "      <td>0</td>\n",
              "      <td>1</td>\n",
              "      <td>2</td>\n",
              "      <td>1</td>\n",
              "      <td>1</td>\n",
              "      <td>1</td>\n",
              "      <td>1</td>\n",
              "      <td>...</td>\n",
              "      <td>2</td>\n",
              "      <td>0</td>\n",
              "      <td>0</td>\n",
              "      <td>2</td>\n",
              "      <td>2</td>\n",
              "      <td>1</td>\n",
              "      <td>1</td>\n",
              "      <td>2</td>\n",
              "      <td>0</td>\n",
              "      <td>No</td>\n",
              "    </tr>\n",
              "    <tr>\n",
              "      <th>3</th>\n",
              "      <td>4hydroxytamoxifene</td>\n",
              "      <td>fluconazole</td>\n",
              "      <td>4hydroxytamoxifene+fluconazole</td>\n",
              "      <td>1</td>\n",
              "      <td>1</td>\n",
              "      <td>1</td>\n",
              "      <td>1</td>\n",
              "      <td>1</td>\n",
              "      <td>1</td>\n",
              "      <td>1</td>\n",
              "      <td>...</td>\n",
              "      <td>2</td>\n",
              "      <td>1</td>\n",
              "      <td>1</td>\n",
              "      <td>2</td>\n",
              "      <td>2</td>\n",
              "      <td>2</td>\n",
              "      <td>2</td>\n",
              "      <td>2</td>\n",
              "      <td>0</td>\n",
              "      <td>No</td>\n",
              "    </tr>\n",
              "    <tr>\n",
              "      <th>4</th>\n",
              "      <td>A23187</td>\n",
              "      <td>fluconazole</td>\n",
              "      <td>A23187+fluconazole</td>\n",
              "      <td>1</td>\n",
              "      <td>1</td>\n",
              "      <td>2</td>\n",
              "      <td>1</td>\n",
              "      <td>1</td>\n",
              "      <td>1</td>\n",
              "      <td>1</td>\n",
              "      <td>...</td>\n",
              "      <td>2</td>\n",
              "      <td>1</td>\n",
              "      <td>1</td>\n",
              "      <td>2</td>\n",
              "      <td>2</td>\n",
              "      <td>2</td>\n",
              "      <td>2</td>\n",
              "      <td>2</td>\n",
              "      <td>0</td>\n",
              "      <td>No</td>\n",
              "    </tr>\n",
              "  </tbody>\n",
              "</table>\n",
              "<p>5 rows × 1622 columns</p>\n",
              "</div>\n",
              "    <div class=\"colab-df-buttons\">\n",
              "\n",
              "  <div class=\"colab-df-container\">\n",
              "    <button class=\"colab-df-convert\" onclick=\"convertToInteractive('df-8f138765-f85f-46e1-8aa4-7b78f51aa0a7')\"\n",
              "            title=\"Convert this dataframe to an interactive table.\"\n",
              "            style=\"display:none;\">\n",
              "\n",
              "  <svg xmlns=\"http://www.w3.org/2000/svg\" height=\"24px\" viewBox=\"0 -960 960 960\">\n",
              "    <path d=\"M120-120v-720h720v720H120Zm60-500h600v-160H180v160Zm220 220h160v-160H400v160Zm0 220h160v-160H400v160ZM180-400h160v-160H180v160Zm440 0h160v-160H620v160ZM180-180h160v-160H180v160Zm440 0h160v-160H620v160Z\"/>\n",
              "  </svg>\n",
              "    </button>\n",
              "\n",
              "  <style>\n",
              "    .colab-df-container {\n",
              "      display:flex;\n",
              "      gap: 12px;\n",
              "    }\n",
              "\n",
              "    .colab-df-convert {\n",
              "      background-color: #E8F0FE;\n",
              "      border: none;\n",
              "      border-radius: 50%;\n",
              "      cursor: pointer;\n",
              "      display: none;\n",
              "      fill: #1967D2;\n",
              "      height: 32px;\n",
              "      padding: 0 0 0 0;\n",
              "      width: 32px;\n",
              "    }\n",
              "\n",
              "    .colab-df-convert:hover {\n",
              "      background-color: #E2EBFA;\n",
              "      box-shadow: 0px 1px 2px rgba(60, 64, 67, 0.3), 0px 1px 3px 1px rgba(60, 64, 67, 0.15);\n",
              "      fill: #174EA6;\n",
              "    }\n",
              "\n",
              "    .colab-df-buttons div {\n",
              "      margin-bottom: 4px;\n",
              "    }\n",
              "\n",
              "    [theme=dark] .colab-df-convert {\n",
              "      background-color: #3B4455;\n",
              "      fill: #D2E3FC;\n",
              "    }\n",
              "\n",
              "    [theme=dark] .colab-df-convert:hover {\n",
              "      background-color: #434B5C;\n",
              "      box-shadow: 0px 1px 3px 1px rgba(0, 0, 0, 0.15);\n",
              "      filter: drop-shadow(0px 1px 2px rgba(0, 0, 0, 0.3));\n",
              "      fill: #FFFFFF;\n",
              "    }\n",
              "  </style>\n",
              "\n",
              "    <script>\n",
              "      const buttonEl =\n",
              "        document.querySelector('#df-8f138765-f85f-46e1-8aa4-7b78f51aa0a7 button.colab-df-convert');\n",
              "      buttonEl.style.display =\n",
              "        google.colab.kernel.accessAllowed ? 'block' : 'none';\n",
              "\n",
              "      async function convertToInteractive(key) {\n",
              "        const element = document.querySelector('#df-8f138765-f85f-46e1-8aa4-7b78f51aa0a7');\n",
              "        const dataTable =\n",
              "          await google.colab.kernel.invokeFunction('convertToInteractive',\n",
              "                                                    [key], {});\n",
              "        if (!dataTable) return;\n",
              "\n",
              "        const docLinkHtml = 'Like what you see? Visit the ' +\n",
              "          '<a target=\"_blank\" href=https://colab.research.google.com/notebooks/data_table.ipynb>data table notebook</a>'\n",
              "          + ' to learn more about interactive tables.';\n",
              "        element.innerHTML = '';\n",
              "        dataTable['output_type'] = 'display_data';\n",
              "        await google.colab.output.renderOutput(dataTable, element);\n",
              "        const docLink = document.createElement('div');\n",
              "        docLink.innerHTML = docLinkHtml;\n",
              "        element.appendChild(docLink);\n",
              "      }\n",
              "    </script>\n",
              "  </div>\n",
              "\n",
              "\n",
              "<div id=\"df-97d30b2b-e7db-43de-a888-06c3956d5cd4\">\n",
              "  <button class=\"colab-df-quickchart\" onclick=\"quickchart('df-97d30b2b-e7db-43de-a888-06c3956d5cd4')\"\n",
              "            title=\"Suggest charts\"\n",
              "            style=\"display:none;\">\n",
              "\n",
              "<svg xmlns=\"http://www.w3.org/2000/svg\" height=\"24px\"viewBox=\"0 0 24 24\"\n",
              "     width=\"24px\">\n",
              "    <g>\n",
              "        <path d=\"M19 3H5c-1.1 0-2 .9-2 2v14c0 1.1.9 2 2 2h14c1.1 0 2-.9 2-2V5c0-1.1-.9-2-2-2zM9 17H7v-7h2v7zm4 0h-2V7h2v10zm4 0h-2v-4h2v4z\"/>\n",
              "    </g>\n",
              "</svg>\n",
              "  </button>\n",
              "\n",
              "<style>\n",
              "  .colab-df-quickchart {\n",
              "      --bg-color: #E8F0FE;\n",
              "      --fill-color: #1967D2;\n",
              "      --hover-bg-color: #E2EBFA;\n",
              "      --hover-fill-color: #174EA6;\n",
              "      --disabled-fill-color: #AAA;\n",
              "      --disabled-bg-color: #DDD;\n",
              "  }\n",
              "\n",
              "  [theme=dark] .colab-df-quickchart {\n",
              "      --bg-color: #3B4455;\n",
              "      --fill-color: #D2E3FC;\n",
              "      --hover-bg-color: #434B5C;\n",
              "      --hover-fill-color: #FFFFFF;\n",
              "      --disabled-bg-color: #3B4455;\n",
              "      --disabled-fill-color: #666;\n",
              "  }\n",
              "\n",
              "  .colab-df-quickchart {\n",
              "    background-color: var(--bg-color);\n",
              "    border: none;\n",
              "    border-radius: 50%;\n",
              "    cursor: pointer;\n",
              "    display: none;\n",
              "    fill: var(--fill-color);\n",
              "    height: 32px;\n",
              "    padding: 0;\n",
              "    width: 32px;\n",
              "  }\n",
              "\n",
              "  .colab-df-quickchart:hover {\n",
              "    background-color: var(--hover-bg-color);\n",
              "    box-shadow: 0 1px 2px rgba(60, 64, 67, 0.3), 0 1px 3px 1px rgba(60, 64, 67, 0.15);\n",
              "    fill: var(--button-hover-fill-color);\n",
              "  }\n",
              "\n",
              "  .colab-df-quickchart-complete:disabled,\n",
              "  .colab-df-quickchart-complete:disabled:hover {\n",
              "    background-color: var(--disabled-bg-color);\n",
              "    fill: var(--disabled-fill-color);\n",
              "    box-shadow: none;\n",
              "  }\n",
              "\n",
              "  .colab-df-spinner {\n",
              "    border: 2px solid var(--fill-color);\n",
              "    border-color: transparent;\n",
              "    border-bottom-color: var(--fill-color);\n",
              "    animation:\n",
              "      spin 1s steps(1) infinite;\n",
              "  }\n",
              "\n",
              "  @keyframes spin {\n",
              "    0% {\n",
              "      border-color: transparent;\n",
              "      border-bottom-color: var(--fill-color);\n",
              "      border-left-color: var(--fill-color);\n",
              "    }\n",
              "    20% {\n",
              "      border-color: transparent;\n",
              "      border-left-color: var(--fill-color);\n",
              "      border-top-color: var(--fill-color);\n",
              "    }\n",
              "    30% {\n",
              "      border-color: transparent;\n",
              "      border-left-color: var(--fill-color);\n",
              "      border-top-color: var(--fill-color);\n",
              "      border-right-color: var(--fill-color);\n",
              "    }\n",
              "    40% {\n",
              "      border-color: transparent;\n",
              "      border-right-color: var(--fill-color);\n",
              "      border-top-color: var(--fill-color);\n",
              "    }\n",
              "    60% {\n",
              "      border-color: transparent;\n",
              "      border-right-color: var(--fill-color);\n",
              "    }\n",
              "    80% {\n",
              "      border-color: transparent;\n",
              "      border-right-color: var(--fill-color);\n",
              "      border-bottom-color: var(--fill-color);\n",
              "    }\n",
              "    90% {\n",
              "      border-color: transparent;\n",
              "      border-bottom-color: var(--fill-color);\n",
              "    }\n",
              "  }\n",
              "</style>\n",
              "\n",
              "  <script>\n",
              "    async function quickchart(key) {\n",
              "      const quickchartButtonEl =\n",
              "        document.querySelector('#' + key + ' button');\n",
              "      quickchartButtonEl.disabled = true;  // To prevent multiple clicks.\n",
              "      quickchartButtonEl.classList.add('colab-df-spinner');\n",
              "      try {\n",
              "        const charts = await google.colab.kernel.invokeFunction(\n",
              "            'suggestCharts', [key], {});\n",
              "      } catch (error) {\n",
              "        console.error('Error during call to suggestCharts:', error);\n",
              "      }\n",
              "      quickchartButtonEl.classList.remove('colab-df-spinner');\n",
              "      quickchartButtonEl.classList.add('colab-df-quickchart-complete');\n",
              "    }\n",
              "    (() => {\n",
              "      let quickchartButtonEl =\n",
              "        document.querySelector('#df-97d30b2b-e7db-43de-a888-06c3956d5cd4 button');\n",
              "      quickchartButtonEl.style.display =\n",
              "        google.colab.kernel.accessAllowed ? 'block' : 'none';\n",
              "    })();\n",
              "  </script>\n",
              "</div>\n",
              "\n",
              "    </div>\n",
              "  </div>\n"
            ],
            "text/plain": [
              "                   Drug 1        Drug2                         Combination  0  \\\n",
              "0     2aminobenzothiazole  fluconazole     2aminobenzothiazole+fluconazole  0   \n",
              "1  2hydroxyethylhydrazine  fluconazole  2hydroxyethylhydrazine+fluconazole  0   \n",
              "2          3aminotriazole  fluconazole          3aminotriazole+fluconazole  0   \n",
              "3      4hydroxytamoxifene  fluconazole      4hydroxytamoxifene+fluconazole  1   \n",
              "4                  A23187  fluconazole                  A23187+fluconazole  1   \n",
              "\n",
              "   1  2  3  4  5  6  ...  Joint_Substructure_159  Joint_Substructure_160  \\\n",
              "0  0  1  1  1  1  1  ...                       2                       0   \n",
              "1  0  1  2  1  2  2  ...                       2                       0   \n",
              "2  1  2  1  1  1  1  ...                       2                       0   \n",
              "3  1  1  1  1  1  1  ...                       2                       1   \n",
              "4  1  2  1  1  1  1  ...                       2                       1   \n",
              "\n",
              "   Joint_Substructure_161  Joint_Substructure_162  Joint_Substructure_163  \\\n",
              "0                       0                       2                       2   \n",
              "1                       0                       2                       1   \n",
              "2                       0                       2                       2   \n",
              "3                       1                       2                       2   \n",
              "4                       1                       2                       2   \n",
              "\n",
              "   Joint_Substructure_164  Joint_Substructure_165  Joint_Substructure_166  \\\n",
              "0                       2                       1                       2   \n",
              "1                       1                       2                       1   \n",
              "2                       1                       1                       2   \n",
              "3                       2                       2                       2   \n",
              "4                       2                       2                       2   \n",
              "\n",
              "   Joint_Substructure_167  Synergy  \n",
              "0                       0       No  \n",
              "1                       0       No  \n",
              "2                       0       No  \n",
              "3                       0       No  \n",
              "4                       0       No  \n",
              "\n",
              "[5 rows x 1622 columns]"
            ]
          },
          "execution_count": 3,
          "metadata": {},
          "output_type": "execute_result"
        }
      ],
      "source": [
        "df.head()"
      ]
    },
    {
      "cell_type": "code",
      "execution_count": null,
      "metadata": {
        "id": "vC_F8iwkx5MX"
      },
      "outputs": [],
      "source": [
        "# Separate features (X) and target variable (y)\n",
        "X = df.drop(columns=['Synergy'])  # Features\n",
        "y = df['Synergy']  # Target variable\n",
        "\n",
        "# Convert categorical labels to binary labels\n",
        "y_binary = y.replace({'No': 0, 'Yes': 1})"
      ]
    },
    {
      "cell_type": "code",
      "execution_count": null,
      "metadata": {
        "colab": {
          "base_uri": "https://localhost:8080/",
          "height": 74
        },
        "id": "IsTzRsaB3a92",
        "outputId": "833399b4-a2de-43cc-9d38-a783ca6eaa4c"
      },
      "outputs": [
        {
          "data": {
            "text/html": [
              "<style>#sk-container-id-1 {color: black;background-color: white;}#sk-container-id-1 pre{padding: 0;}#sk-container-id-1 div.sk-toggleable {background-color: white;}#sk-container-id-1 label.sk-toggleable__label {cursor: pointer;display: block;width: 100%;margin-bottom: 0;padding: 0.3em;box-sizing: border-box;text-align: center;}#sk-container-id-1 label.sk-toggleable__label-arrow:before {content: \"▸\";float: left;margin-right: 0.25em;color: #696969;}#sk-container-id-1 label.sk-toggleable__label-arrow:hover:before {color: black;}#sk-container-id-1 div.sk-estimator:hover label.sk-toggleable__label-arrow:before {color: black;}#sk-container-id-1 div.sk-toggleable__content {max-height: 0;max-width: 0;overflow: hidden;text-align: left;background-color: #f0f8ff;}#sk-container-id-1 div.sk-toggleable__content pre {margin: 0.2em;color: black;border-radius: 0.25em;background-color: #f0f8ff;}#sk-container-id-1 input.sk-toggleable__control:checked~div.sk-toggleable__content {max-height: 200px;max-width: 100%;overflow: auto;}#sk-container-id-1 input.sk-toggleable__control:checked~label.sk-toggleable__label-arrow:before {content: \"▾\";}#sk-container-id-1 div.sk-estimator input.sk-toggleable__control:checked~label.sk-toggleable__label {background-color: #d4ebff;}#sk-container-id-1 div.sk-label input.sk-toggleable__control:checked~label.sk-toggleable__label {background-color: #d4ebff;}#sk-container-id-1 input.sk-hidden--visually {border: 0;clip: rect(1px 1px 1px 1px);clip: rect(1px, 1px, 1px, 1px);height: 1px;margin: -1px;overflow: hidden;padding: 0;position: absolute;width: 1px;}#sk-container-id-1 div.sk-estimator {font-family: monospace;background-color: #f0f8ff;border: 1px dotted black;border-radius: 0.25em;box-sizing: border-box;margin-bottom: 0.5em;}#sk-container-id-1 div.sk-estimator:hover {background-color: #d4ebff;}#sk-container-id-1 div.sk-parallel-item::after {content: \"\";width: 100%;border-bottom: 1px solid gray;flex-grow: 1;}#sk-container-id-1 div.sk-label:hover label.sk-toggleable__label {background-color: #d4ebff;}#sk-container-id-1 div.sk-serial::before {content: \"\";position: absolute;border-left: 1px solid gray;box-sizing: border-box;top: 0;bottom: 0;left: 50%;z-index: 0;}#sk-container-id-1 div.sk-serial {display: flex;flex-direction: column;align-items: center;background-color: white;padding-right: 0.2em;padding-left: 0.2em;position: relative;}#sk-container-id-1 div.sk-item {position: relative;z-index: 1;}#sk-container-id-1 div.sk-parallel {display: flex;align-items: stretch;justify-content: center;background-color: white;position: relative;}#sk-container-id-1 div.sk-item::before, #sk-container-id-1 div.sk-parallel-item::before {content: \"\";position: absolute;border-left: 1px solid gray;box-sizing: border-box;top: 0;bottom: 0;left: 50%;z-index: -1;}#sk-container-id-1 div.sk-parallel-item {display: flex;flex-direction: column;z-index: 1;position: relative;background-color: white;}#sk-container-id-1 div.sk-parallel-item:first-child::after {align-self: flex-end;width: 50%;}#sk-container-id-1 div.sk-parallel-item:last-child::after {align-self: flex-start;width: 50%;}#sk-container-id-1 div.sk-parallel-item:only-child::after {width: 0;}#sk-container-id-1 div.sk-dashed-wrapped {border: 1px dashed gray;margin: 0 0.4em 0.5em 0.4em;box-sizing: border-box;padding-bottom: 0.4em;background-color: white;}#sk-container-id-1 div.sk-label label {font-family: monospace;font-weight: bold;display: inline-block;line-height: 1.2em;}#sk-container-id-1 div.sk-label-container {text-align: center;}#sk-container-id-1 div.sk-container {/* jupyter's `normalize.less` sets `[hidden] { display: none; }` but bootstrap.min.css set `[hidden] { display: none !important; }` so we also need the `!important` here to be able to override the default hidden behavior on the sphinx rendered scikit-learn.org. See: https://github.com/scikit-learn/scikit-learn/issues/21755 */display: inline-block !important;position: relative;}#sk-container-id-1 div.sk-text-repr-fallback {display: none;}</style><div id=\"sk-container-id-1\" class=\"sk-top-container\"><div class=\"sk-text-repr-fallback\"><pre>RandomForestClassifier(random_state=42)</pre><b>In a Jupyter environment, please rerun this cell to show the HTML representation or trust the notebook. <br />On GitHub, the HTML representation is unable to render, please try loading this page with nbviewer.org.</b></div><div class=\"sk-container\" hidden><div class=\"sk-item\"><div class=\"sk-estimator sk-toggleable\"><input class=\"sk-toggleable__control sk-hidden--visually\" id=\"sk-estimator-id-1\" type=\"checkbox\" checked><label for=\"sk-estimator-id-1\" class=\"sk-toggleable__label sk-toggleable__label-arrow\">RandomForestClassifier</label><div class=\"sk-toggleable__content\"><pre>RandomForestClassifier(random_state=42)</pre></div></div></div></div></div>"
            ],
            "text/plain": [
              "RandomForestClassifier(random_state=42)"
            ]
          },
          "execution_count": 5,
          "metadata": {},
          "output_type": "execute_result"
        }
      ],
      "source": [
        "\n",
        "# Separate features and target\n",
        "X = df.drop(['Drug 1', 'Drug2', 'Combination', 'Synergy'], axis=1)\n",
        "y = df['Synergy']\n",
        "\n",
        "# Split data into train and test sets\n",
        "X_train, X_test, y_train, y_test = train_test_split(X, y, test_size=0.2, random_state=42)\n",
        "\n",
        "# Train the Random Forest model\n",
        "rf = RandomForestClassifier(n_estimators=100, random_state=42)\n",
        "rf.fit(X_train, y_train)"
      ]
    },
    {
      "cell_type": "code",
      "source": [],
      "metadata": {
        "id": "BESS5SXofBgo"
      },
      "execution_count": null,
      "outputs": []
    },
    {
      "cell_type": "code",
      "source": [],
      "metadata": {
        "id": "hjRzn0VtDHEB"
      },
      "execution_count": 43,
      "outputs": []
    },
    {
      "cell_type": "code",
      "source": [
        "Xtrain , X_val, ytrain, y_val = train_test_split(X_train1,)"
      ],
      "metadata": {
        "id": "lZf9uchtFFjR"
      },
      "execution_count": 44,
      "outputs": []
    },
    {
      "cell_type": "code",
      "execution_count": 42,
      "metadata": {
        "colab": {
          "base_uri": "https://localhost:8080/",
          "height": 211
        },
        "id": "EjrnpwsL4RSx",
        "outputId": "fab13ce3-c30d-4388-beb8-63d34b673088"
      },
      "outputs": [
        {
          "output_type": "error",
          "ename": "NameError",
          "evalue": "name 'y_train1_pred' is not defined",
          "traceback": [
            "\u001b[0;31m---------------------------------------------------------------------------\u001b[0m",
            "\u001b[0;31mNameError\u001b[0m                                 Traceback (most recent call last)",
            "\u001b[0;32m<ipython-input-42-904aa0700929>\u001b[0m in \u001b[0;36m<cell line: 12>\u001b[0;34m()\u001b[0m\n\u001b[1;32m     10\u001b[0m \u001b[0;31m# Calculate accuracy\u001b[0m\u001b[0;34m\u001b[0m\u001b[0;34m\u001b[0m\u001b[0m\n\u001b[1;32m     11\u001b[0m \u001b[0mval_accuracy\u001b[0m \u001b[0;34m=\u001b[0m \u001b[0maccuracy_score\u001b[0m\u001b[0;34m(\u001b[0m\u001b[0my_val\u001b[0m\u001b[0;34m,\u001b[0m \u001b[0my_val_pred\u001b[0m\u001b[0;34m)\u001b[0m\u001b[0;34m\u001b[0m\u001b[0;34m\u001b[0m\u001b[0m\n\u001b[0;32m---> 12\u001b[0;31m \u001b[0mtest_accuracy\u001b[0m \u001b[0;34m=\u001b[0m \u001b[0maccuracy_score\u001b[0m\u001b[0;34m(\u001b[0m\u001b[0my_train1\u001b[0m\u001b[0;34m,\u001b[0m \u001b[0my_train1_pred\u001b[0m\u001b[0;34m)\u001b[0m\u001b[0;34m\u001b[0m\u001b[0;34m\u001b[0m\u001b[0m\n\u001b[0m\u001b[1;32m     13\u001b[0m \u001b[0mprint\u001b[0m\u001b[0;34m(\u001b[0m\u001b[0;34mf\"Validation Accuracy: {val_accuracy:.2f}\"\u001b[0m\u001b[0;34m)\u001b[0m\u001b[0;34m\u001b[0m\u001b[0;34m\u001b[0m\u001b[0m\n\u001b[1;32m     14\u001b[0m \u001b[0mprint\u001b[0m\u001b[0;34m(\u001b[0m\u001b[0;34mf\"Test Accuracy: {test_accuracy:.2f}\"\u001b[0m\u001b[0;34m)\u001b[0m\u001b[0;34m\u001b[0m\u001b[0;34m\u001b[0m\u001b[0m\n",
            "\u001b[0;31mNameError\u001b[0m: name 'y_train1_pred' is not defined"
          ]
        }
      ],
      "source": [
        "# Convert categorical labels to binary labels\n",
        "y_test_binary = y_test.replace({'No': 0, 'Yes': 1})\n",
        "\n",
        "# Train the Random Forest classifier\n",
        "rf_classifier = RandomForestClassifier(random_state = 42)\n",
        "rf_classifier.fit(X_train, y_train)\n",
        "\n",
        "# Predict on test data\n",
        "y_pred_rf = rf_classifier.predict(X_test)\n",
        "\n",
        "# Calculate accuracy\n",
        "accuracy_rf = accuracy_score(y_test, y_pred_rf)\n",
        "print(f\"Random Forest Accuracy: {accuracy_rf:.2f}\")\n",
        "\n",
        "# Calculate ROC curve and AUC score\n",
        "if hasattr(rf_classifier, \"predict_proba\"):\n",
        "    prob_pos_rf = rf_classifier.predict_proba(X_test)[:, 1]\n",
        "else:  # use decision function\n",
        "    prob_pos_rf = rf_classifier.decision_function(X_test)\n",
        "    prob_pos_rf = (prob_pos_rf - prob_pos_rf.min()) / (prob_pos_rf.max() - prob_pos_rf.min())\n",
        "\n",
        "fpr_rf, tpr_rf, thresholds_rf = roc_curve(y_test_binary, prob_pos_rf)\n",
        "auc_rf = roc_auc_score(y_test_binary, prob_pos_rf)\n",
        "print(f\"Random Forest AUC: {auc_rf:.2f}\")\n",
        "\n",
        "# Plot ROC curve\n",
        "plt.figure()\n",
        "plt.plot(fpr_rf, tpr_rf, color='darkorange', lw=2, label='ROC curve (area = %0.2f)' % auc_rf)\n",
        "plt.plot([0, 1], [0, 1], color='navy', lw=2, linestyle='--')\n",
        "plt.xlim([0.0, 1.0])\n",
        "plt.ylim([0.0, 1.05])\n",
        "plt.xlabel('False Positive Rate')\n",
        "plt.ylabel('True Positive Rate')\n",
        "plt.title('Receiver Operating Characteristic (Random Forest)')\n",
        "plt.legend(loc=\"lower right\")\n",
        "plt.show()"
      ]
    },
    {
      "cell_type": "code",
      "execution_count": null,
      "metadata": {
        "colab": {
          "base_uri": "https://localhost:8080/"
        },
        "id": "UlUbajuy54h4",
        "outputId": "c1ffc00d-988f-41c2-b91b-ffb79665270d"
      },
      "outputs": [
        {
          "name": "stdout",
          "output_type": "stream",
          "text": [
            "Precision: Class 0 = 0.84, Class 1 = 1.00\n",
            "Recall: Class 0 = 1.00, Class 1 = 0.11\n",
            "F1-score: Class 0 = 0.91, Class 1 = 0.20\n"
          ]
        },
        {
          "name": "stderr",
          "output_type": "stream",
          "text": [
            "/usr/local/lib/python3.10/dist-packages/sklearn/metrics/_classification.py:1396: UserWarning: Note that pos_label (set to 'Yes') is ignored when average != 'binary' (got None). You may use labels=[pos_label] to specify a single positive class.\n",
            "  warnings.warn(\n",
            "/usr/local/lib/python3.10/dist-packages/sklearn/metrics/_classification.py:1396: UserWarning: Note that pos_label (set to 'Yes') is ignored when average != 'binary' (got None). You may use labels=[pos_label] to specify a single positive class.\n",
            "  warnings.warn(\n",
            "/usr/local/lib/python3.10/dist-packages/sklearn/metrics/_classification.py:1396: UserWarning: Note that pos_label (set to 'Yes') is ignored when average != 'binary' (got None). You may use labels=[pos_label] to specify a single positive class.\n",
            "  warnings.warn(\n"
          ]
        }
      ],
      "source": [
        "from sklearn.metrics import precision_score, recall_score, f1_score\n",
        "\n",
        "# Make predictions on test set\n",
        "y_pred = rf.predict(X_test)\n",
        "\n",
        "# Calculate precision, recall, and F1-score for each class\n",
        "precision = precision_score(y_test, y_pred, pos_label='Yes', average=None)\n",
        "recall = recall_score(y_test, y_pred, pos_label='Yes', average=None)\n",
        "f1 = f1_score(y_test, y_pred, pos_label='Yes', average=None)\n",
        "\n",
        "# Print the metrics\n",
        "print(f\"Precision: Class 0 = {precision[0]:.2f}, Class 1 = {precision[1]:.2f}\")\n",
        "print(f\"Recall: Class 0 = {recall[0]:.2f}, Class 1 = {recall[1]:.2f}\")\n",
        "print(f\"F1-score: Class 0 = {f1[0]:.2f}, Class 1 = {f1[1]:.2f}\")"
      ]
    },
    {
      "cell_type": "markdown",
      "metadata": {
        "id": "35U0bYSJ7OJM"
      },
      "source": [
        "# Balance the Data anda train again"
      ]
    },
    {
      "cell_type": "code",
      "execution_count": null,
      "metadata": {
        "id": "cofJw-kI7WUU"
      },
      "outputs": [],
      "source": [
        "df1 = df"
      ]
    },
    {
      "cell_type": "code",
      "execution_count": null,
      "metadata": {
        "colab": {
          "base_uri": "https://localhost:8080/"
        },
        "id": "u_hXndHH7ab7",
        "outputId": "db683c39-236c-4de4-f508-f3929bfa62bb"
      },
      "outputs": [
        {
          "name": "stdout",
          "output_type": "stream",
          "text": [
            "Original dataset shape: Counter({'No': 201, 'Yes': 45})\n",
            "Resampled dataset shape: Counter({'No': 201, 'Yes': 201})\n"
          ]
        }
      ],
      "source": [
        "from imblearn.over_sampling import SMOTE\n",
        "from collections import Counter\n",
        "\n",
        "# Split data into features and target\n",
        "X = df1.drop(['Drug 1', 'Drug2', 'Combination', 'Synergy'], axis=1)\n",
        "y = df1['Synergy']\n",
        "\n",
        "# Instantiate SMOTE\n",
        "smote = SMOTE()\n",
        "\n",
        "# Fit and apply SMOTE\n",
        "X_resampled, y_resampled = smote.fit_resample(X, y)\n",
        "\n",
        "# Check the new class distribution\n",
        "print('Original dataset shape:', Counter(y))\n",
        "print('Resampled dataset shape:', Counter(y_resampled))"
      ]
    },
    {
      "cell_type": "code",
      "execution_count": null,
      "metadata": {
        "colab": {
          "base_uri": "https://localhost:8080/",
          "height": 74
        },
        "id": "IWTXJLW17mbK",
        "outputId": "281f68f5-114b-4e50-9f77-2fc75866ed43"
      },
      "outputs": [
        {
          "data": {
            "text/html": [
              "<style>#sk-container-id-3 {color: black;background-color: white;}#sk-container-id-3 pre{padding: 0;}#sk-container-id-3 div.sk-toggleable {background-color: white;}#sk-container-id-3 label.sk-toggleable__label {cursor: pointer;display: block;width: 100%;margin-bottom: 0;padding: 0.3em;box-sizing: border-box;text-align: center;}#sk-container-id-3 label.sk-toggleable__label-arrow:before {content: \"▸\";float: left;margin-right: 0.25em;color: #696969;}#sk-container-id-3 label.sk-toggleable__label-arrow:hover:before {color: black;}#sk-container-id-3 div.sk-estimator:hover label.sk-toggleable__label-arrow:before {color: black;}#sk-container-id-3 div.sk-toggleable__content {max-height: 0;max-width: 0;overflow: hidden;text-align: left;background-color: #f0f8ff;}#sk-container-id-3 div.sk-toggleable__content pre {margin: 0.2em;color: black;border-radius: 0.25em;background-color: #f0f8ff;}#sk-container-id-3 input.sk-toggleable__control:checked~div.sk-toggleable__content {max-height: 200px;max-width: 100%;overflow: auto;}#sk-container-id-3 input.sk-toggleable__control:checked~label.sk-toggleable__label-arrow:before {content: \"▾\";}#sk-container-id-3 div.sk-estimator input.sk-toggleable__control:checked~label.sk-toggleable__label {background-color: #d4ebff;}#sk-container-id-3 div.sk-label input.sk-toggleable__control:checked~label.sk-toggleable__label {background-color: #d4ebff;}#sk-container-id-3 input.sk-hidden--visually {border: 0;clip: rect(1px 1px 1px 1px);clip: rect(1px, 1px, 1px, 1px);height: 1px;margin: -1px;overflow: hidden;padding: 0;position: absolute;width: 1px;}#sk-container-id-3 div.sk-estimator {font-family: monospace;background-color: #f0f8ff;border: 1px dotted black;border-radius: 0.25em;box-sizing: border-box;margin-bottom: 0.5em;}#sk-container-id-3 div.sk-estimator:hover {background-color: #d4ebff;}#sk-container-id-3 div.sk-parallel-item::after {content: \"\";width: 100%;border-bottom: 1px solid gray;flex-grow: 1;}#sk-container-id-3 div.sk-label:hover label.sk-toggleable__label {background-color: #d4ebff;}#sk-container-id-3 div.sk-serial::before {content: \"\";position: absolute;border-left: 1px solid gray;box-sizing: border-box;top: 0;bottom: 0;left: 50%;z-index: 0;}#sk-container-id-3 div.sk-serial {display: flex;flex-direction: column;align-items: center;background-color: white;padding-right: 0.2em;padding-left: 0.2em;position: relative;}#sk-container-id-3 div.sk-item {position: relative;z-index: 1;}#sk-container-id-3 div.sk-parallel {display: flex;align-items: stretch;justify-content: center;background-color: white;position: relative;}#sk-container-id-3 div.sk-item::before, #sk-container-id-3 div.sk-parallel-item::before {content: \"\";position: absolute;border-left: 1px solid gray;box-sizing: border-box;top: 0;bottom: 0;left: 50%;z-index: -1;}#sk-container-id-3 div.sk-parallel-item {display: flex;flex-direction: column;z-index: 1;position: relative;background-color: white;}#sk-container-id-3 div.sk-parallel-item:first-child::after {align-self: flex-end;width: 50%;}#sk-container-id-3 div.sk-parallel-item:last-child::after {align-self: flex-start;width: 50%;}#sk-container-id-3 div.sk-parallel-item:only-child::after {width: 0;}#sk-container-id-3 div.sk-dashed-wrapped {border: 1px dashed gray;margin: 0 0.4em 0.5em 0.4em;box-sizing: border-box;padding-bottom: 0.4em;background-color: white;}#sk-container-id-3 div.sk-label label {font-family: monospace;font-weight: bold;display: inline-block;line-height: 1.2em;}#sk-container-id-3 div.sk-label-container {text-align: center;}#sk-container-id-3 div.sk-container {/* jupyter's `normalize.less` sets `[hidden] { display: none; }` but bootstrap.min.css set `[hidden] { display: none !important; }` so we also need the `!important` here to be able to override the default hidden behavior on the sphinx rendered scikit-learn.org. See: https://github.com/scikit-learn/scikit-learn/issues/21755 */display: inline-block !important;position: relative;}#sk-container-id-3 div.sk-text-repr-fallback {display: none;}</style><div id=\"sk-container-id-3\" class=\"sk-top-container\"><div class=\"sk-text-repr-fallback\"><pre>RandomForestClassifier(random_state=42)</pre><b>In a Jupyter environment, please rerun this cell to show the HTML representation or trust the notebook. <br />On GitHub, the HTML representation is unable to render, please try loading this page with nbviewer.org.</b></div><div class=\"sk-container\" hidden><div class=\"sk-item\"><div class=\"sk-estimator sk-toggleable\"><input class=\"sk-toggleable__control sk-hidden--visually\" id=\"sk-estimator-id-3\" type=\"checkbox\" checked><label for=\"sk-estimator-id-3\" class=\"sk-toggleable__label sk-toggleable__label-arrow\">RandomForestClassifier</label><div class=\"sk-toggleable__content\"><pre>RandomForestClassifier(random_state=42)</pre></div></div></div></div></div>"
            ],
            "text/plain": [
              "RandomForestClassifier(random_state=42)"
            ]
          },
          "execution_count": 49,
          "metadata": {},
          "output_type": "execute_result"
        }
      ],
      "source": [
        "# Split data into train and test sets\n",
        "X_train, X_test, y_train, y_test = train_test_split(X_resampled, y_resampled, test_size=0.2, random_state=42)\n",
        "\n",
        "# Train the Random Forest model\n",
        "rf = RandomForestClassifier(n_estimators=100, random_state=42)\n",
        "rf.fit(X_train, y_train)"
      ]
    },
    {
      "cell_type": "code",
      "execution_count": null,
      "metadata": {
        "colab": {
          "base_uri": "https://localhost:8080/"
        },
        "id": "YXpAh2vF7xvR",
        "outputId": "035e2281-ce83-47fa-a233-fb8b8dd80a3e"
      },
      "outputs": [
        {
          "name": "stdout",
          "output_type": "stream",
          "text": [
            "Precision: Class 0 = 0.88, Class 1 = 0.84\n",
            "Recall: Class 0 = 0.86, Class 1 = 0.86\n",
            "F1-score: Class 0 = 0.87, Class 1 = 0.85\n"
          ]
        },
        {
          "name": "stderr",
          "output_type": "stream",
          "text": [
            "/usr/local/lib/python3.10/dist-packages/sklearn/metrics/_classification.py:1396: UserWarning: Note that pos_label (set to 'Yes') is ignored when average != 'binary' (got None). You may use labels=[pos_label] to specify a single positive class.\n",
            "  warnings.warn(\n",
            "/usr/local/lib/python3.10/dist-packages/sklearn/metrics/_classification.py:1396: UserWarning: Note that pos_label (set to 'Yes') is ignored when average != 'binary' (got None). You may use labels=[pos_label] to specify a single positive class.\n",
            "  warnings.warn(\n",
            "/usr/local/lib/python3.10/dist-packages/sklearn/metrics/_classification.py:1396: UserWarning: Note that pos_label (set to 'Yes') is ignored when average != 'binary' (got None). You may use labels=[pos_label] to specify a single positive class.\n",
            "  warnings.warn(\n"
          ]
        }
      ],
      "source": [
        "from sklearn.metrics import precision_score, recall_score, f1_score\n",
        "\n",
        "# Make predictions on test set\n",
        "y_pred = rf.predict(X_test)\n",
        "\n",
        "# Calculate precision, recall, and F1-score for each class\n",
        "precision = precision_score(y_test, y_pred, pos_label='Yes', average=None)\n",
        "recall = recall_score(y_test, y_pred, pos_label='Yes', average=None)\n",
        "f1 = f1_score(y_test, y_pred, pos_label='Yes', average=None)\n",
        "\n",
        "# Print the metrics\n",
        "print(f\"Precision: Class 0 = {precision[0]:.2f}, Class 1 = {precision[1]:.2f}\")\n",
        "print(f\"Recall: Class 0 = {recall[0]:.2f}, Class 1 = {recall[1]:.2f}\")\n",
        "print(f\"F1-score: Class 0 = {f1[0]:.2f}, Class 1 = {f1[1]:.2f}\")"
      ]
    },
    {
      "cell_type": "markdown",
      "metadata": {
        "id": "w4JaY6NV-6yc"
      },
      "source": [
        "# Subject the model to the training set"
      ]
    },
    {
      "cell_type": "code",
      "execution_count": null,
      "metadata": {
        "colab": {
          "base_uri": "https://localhost:8080/",
          "height": 633
        },
        "id": "IytkBJUw_E2S",
        "outputId": "c1957f05-e957-4ccd-c556-05f32b4f6416"
      },
      "outputs": [
        {
          "name": "stdout",
          "output_type": "stream",
          "text": [
            "Precision: 0.84\n",
            "Recall: 0.86\n",
            "F1-score: 0.85\n",
            "AUC-ROC: 0.95\n"
          ]
        },
        {
          "data": {
            "image/png": "[encoded data removed]",
            "text/plain": [
              "<Figure size 800x600 with 1 Axes>"
            ]
          },
          "metadata": {},
          "output_type": "display_data"
        }
      ],
      "source": [
        "from sklearn.metrics import precision_score, recall_score, f1_score, roc_auc_score, roc_curve\n",
        "from sklearn.preprocessing import LabelEncoder\n",
        "import matplotlib.pyplot as plt\n",
        "\n",
        "# Encode target variable\n",
        "le = LabelEncoder()\n",
        "y_test_encoded = le.fit_transform(y_test)\n",
        "\n",
        "# Make predictions on test set\n",
        "y_pred = rf.predict(X_test)\n",
        "y_prob = rf.predict_proba(X_test)[:, 1]\n",
        "\n",
        "# Calculate precision, recall, and F1-score\n",
        "precision = precision_score(y_test, y_pred, pos_label='Yes')\n",
        "recall = recall_score(y_test, y_pred, pos_label='Yes')\n",
        "f1 = f1_score(y_test, y_pred, pos_label='Yes')\n",
        "\n",
        "# Calculate AUC-ROC\n",
        "auc = roc_auc_score(y_test_encoded, y_prob)\n",
        "\n",
        "# Print metrics\n",
        "print(f\"Precision: {precision:.2f}\")\n",
        "print(f\"Recall: {recall:.2f}\")\n",
        "print(f\"F1-score: {f1:.2f}\")\n",
        "print(f\"AUC-ROC: {auc:.2f}\")\n",
        "\n",
        "# Plot ROC curve\n",
        "fpr, tpr, _ = roc_curve(y_test_encoded, y_prob)\n",
        "plt.figure(figsize=(8, 6))\n",
        "plt.plot(fpr, tpr, label=f'Random Forest (AUC = {auc:.2f})')\n",
        "plt.plot([0, 1], [0, 1], 'k--')\n",
        "plt.xlabel('False Positive Rate')\n",
        "plt.ylabel('True Positive Rate')\n",
        "plt.title('ROC Curve')\n",
        "plt.legend()\n",
        "plt.show()"
      ]
    },
    {
      "cell_type": "markdown",
      "metadata": {
        "id": "UQAffdo0CVjB"
      },
      "source": [
        "# make a prediction on the entire data set"
      ]
    },
    {
      "cell_type": "code",
      "execution_count": null,
      "metadata": {
        "id": "56FLM2t3CZb7"
      },
      "outputs": [],
      "source": [
        "# Make predictions on the entire dataset\n",
        "y_pred = rf.predict(df1.drop(['Drug 1', 'Drug2', 'Combination', 'Synergy'], axis=1))"
      ]
    },
    {
      "cell_type": "code",
      "execution_count": null,
      "metadata": {
        "colab": {
          "base_uri": "https://localhost:8080/"
        },
        "id": "hC4vSrB1EbZn",
        "outputId": "61781b00-2591-42d4-a7c7-3c4d15e5aa71"
      },
      "outputs": [
        {
          "name": "stdout",
          "output_type": "stream",
          "text": [
            "                 Drug 1          Drug2                      Combination  \\\n",
            "3    4hydroxytamoxifene    fluconazole   4hydroxytamoxifene+fluconazole   \n",
            "19             apicidin    fluconazole             apicidin+fluconazole   \n",
            "33      castanospermine    fluconazole      castanospermine+fluconazole   \n",
            "36       chlorpromazine    fluconazole       chlorpromazine+fluconazole   \n",
            "37         chromium-III    fluconazole         chromium-III+fluconazole   \n",
            "41         clotrimazole    fluconazole         clotrimazole+fluconazole   \n",
            "42             colistin    fluconazole             colistin+fluconazole   \n",
            "46          cyclosporin    fluconazole          cyclosporin+fluconazole   \n",
            "47        cyproconazole    fluconazole        cyproconazole+fluconazole   \n",
            "49         deferoxamine    fluconazole         deferoxamine+fluconazole   \n",
            "50         desiperimine    fluconazole         desiperimine+fluconazole   \n",
            "54        fenpropimorph    fluconazole        fenpropimorph+fluconazole   \n",
            "55                FK506    fluconazole                FK506+fluconazole   \n",
            "59          fluconazole   geldanamycin         fluconazole+geldanamycin   \n",
            "81          fluconazole   myclobutanil         fluconazole+myclobutanil   \n",
            "88          fluconazole      nigericin            fluconazole+nigericin   \n",
            "89          fluconazole     nikkomycin           fluconazole+nikkomycin   \n",
            "94          fluconazole      polyoxinB            fluconazole+polyoxinB   \n",
            "97          fluconazole      rapamycin            fluconazole+rapamycin   \n",
            "98          fluconazole      rifamycin            fluconazole+rifamycin   \n",
            "113         fluconazole  thiabendazole        fluconazole+thiabendazole   \n",
            "118         fluconazole    tunicamycin          fluconazole+tunicamycin   \n",
            "126  4hydroxytamoxifene   geldanamycin  4hydroxytamoxifene+geldanamycin   \n",
            "128        abietic-acid   geldanamycin        abietic-acid+geldanamycin   \n",
            "135         alternariol   geldanamycin         alternariol+geldanamycin   \n",
            "142            apicidin   geldanamycin            apicidin+geldanamycin   \n",
            "143         artemesinin   geldanamycin         artemesinin+geldanamycin   \n",
            "149          bifonazole   geldanamycin          bifonazole+geldanamycin   \n",
            "156     castanospermine   geldanamycin     castanospermine+geldanamycin   \n",
            "159      chlorpromazine   geldanamycin      chlorpromazine+geldanamycin   \n",
            "160        chromium-III   geldanamycin        chromium-III+geldanamycin   \n",
            "164        clotrimazole   geldanamycin        clotrimazole+geldanamycin   \n",
            "165            colistin   geldanamycin            colistin+geldanamycin   \n",
            "168       cycloheximide   geldanamycin       cycloheximide+geldanamycin   \n",
            "169         cyclosporin   geldanamycin         cyclosporin+geldanamycin   \n",
            "172        deferoxamine   geldanamycin        deferoxamine+geldanamycin   \n",
            "173        desiperimine   geldanamycin        desiperimine+geldanamycin   \n",
            "174           dyclonine   geldanamycin           dyclonine+geldanamycin   \n",
            "178               FK506   geldanamycin               FK506+geldanamycin   \n",
            "179         fluconazole   geldanamycin         fluconazole+geldanamycin   \n",
            "187        geldanamycin       imazilil            geldanamycin+imazilil   \n",
            "201        geldanamycin     miconazole          geldanamycin+miconazole   \n",
            "213        geldanamycin          NiSO4               geldanamycin+NiSO4   \n",
            "217        geldanamycin      polyoxinB           geldanamycin+polyoxinB   \n",
            "220        geldanamycin      rapamycin           geldanamycin+rapamycin   \n",
            "236        geldanamycin  thiabendazole       geldanamycin+thiabendazole   \n",
            "\n",
            "    Predicted_Synergy  \n",
            "3                 Yes  \n",
            "19                Yes  \n",
            "33                Yes  \n",
            "36                Yes  \n",
            "37                Yes  \n",
            "41                Yes  \n",
            "42                Yes  \n",
            "46                Yes  \n",
            "47                Yes  \n",
            "49                Yes  \n",
            "50                Yes  \n",
            "54                Yes  \n",
            "55                Yes  \n",
            "59                Yes  \n",
            "81                Yes  \n",
            "88                Yes  \n",
            "89                Yes  \n",
            "94                Yes  \n",
            "97                Yes  \n",
            "98                Yes  \n",
            "113               Yes  \n",
            "118               Yes  \n",
            "126               Yes  \n",
            "128               Yes  \n",
            "135               Yes  \n",
            "142               Yes  \n",
            "143               Yes  \n",
            "149               Yes  \n",
            "156               Yes  \n",
            "159               Yes  \n",
            "160               Yes  \n",
            "164               Yes  \n",
            "165               Yes  \n",
            "168               Yes  \n",
            "169               Yes  \n",
            "172               Yes  \n",
            "173               Yes  \n",
            "174               Yes  \n",
            "178               Yes  \n",
            "179               Yes  \n",
            "187               Yes  \n",
            "201               Yes  \n",
            "213               Yes  \n",
            "217               Yes  \n",
            "220               Yes  \n",
            "236               Yes  \n",
            "Number of unique 'Yes' combinations: 45\n"
          ]
        }
      ],
      "source": [
        "df_pred = df1[['Drug 1', 'Drug2', 'Combination']].copy()\n",
        "df_pred['Predicted_Synergy'] = y_pred\n",
        "\n",
        "# Filter for 'Yes' predictions\n",
        "yes_combinations = df_pred.loc[df_pred['Predicted_Synergy'] == 'Yes']\n",
        "\n",
        "# Print the combinations predicted as 'Yes'\n",
        "print(yes_combinations)\n",
        "\n",
        "# Count the number of unique 'Yes' combinations\n",
        "num_yes = yes_combinations['Combination'].nunique()\n",
        "print(f\"Number of unique 'Yes' combinations: {num_yes}\")"
      ]
    },
    {
      "cell_type": "code",
      "execution_count": null,
      "metadata": {
        "id": "VEAY03UaElPO"
      },
      "outputs": [],
      "source": [
        "yes_combinations.to_csv('yes_combinations.csv', index=False)"
      ]
    },
    {
      "cell_type": "code",
      "execution_count": null,
      "metadata": {
        "id": "5sRUYVkIFXv0"
      },
      "outputs": [],
      "source": [
        "non_synergistic_combinations = df_pred.loc[df_pred['Predicted_Synergy'] == 'No']"
      ]
    },
    {
      "cell_type": "code",
      "execution_count": null,
      "metadata": {
        "colab": {
          "base_uri": "https://localhost:8080/"
        },
        "id": "Rr3ZDtV4Fd0l",
        "outputId": "9a9b8203-a2e8-45c3-f195-f057342c833a"
      },
      "outputs": [
        {
          "name": "stdout",
          "output_type": "stream",
          "text": [
            "\n",
            "Non-Synergistic Combinations:\n",
            "                     Drug 1        Drug2                         Combination  \\\n",
            "0       2aminobenzothiazole  fluconazole     2aminobenzothiazole+fluconazole   \n",
            "1    2hydroxyethylhydrazine  fluconazole  2hydroxyethylhydrazine+fluconazole   \n",
            "2            3aminotriazole  fluconazole          3aminotriazole+fluconazole   \n",
            "4                    A23187  fluconazole                  A23187+fluconazole   \n",
            "5              abietic-acid  fluconazole            abietic-acid+fluconazole   \n",
            "..                      ...          ...                                 ...   \n",
            "241            geldanamycin  tunicamycin            geldanamycin+tunicamycin   \n",
            "242            geldanamycin   usnic-acid             geldanamycin+usnic-acid   \n",
            "243            geldanamycin  valinomycin            geldanamycin+valinomycin   \n",
            "244            geldanamycin   verrucarin             geldanamycin+verrucarin   \n",
            "245            geldanamycin        ZnCl2                  geldanamycin+ZnCl2   \n",
            "\n",
            "    Predicted_Synergy  \n",
            "0                  No  \n",
            "1                  No  \n",
            "2                  No  \n",
            "4                  No  \n",
            "5                  No  \n",
            "..                ...  \n",
            "241                No  \n",
            "242                No  \n",
            "243                No  \n",
            "244                No  \n",
            "245                No  \n",
            "\n",
            "[200 rows x 4 columns]\n"
          ]
        }
      ],
      "source": [
        "\n",
        "print(\"\\nNon-Synergistic Combinations:\")\n",
        "print(non_synergistic_combinations)"
      ]
    },
    {
      "cell_type": "code",
      "execution_count": null,
      "metadata": {
        "id": "UWQIV0QCFjlA"
      },
      "outputs": [],
      "source": [
        "\n",
        "non_synergistic_combinations.to_csv('non_synergistic_combinations.csv', index=False)"
      ]
    },
    {
      "cell_type": "markdown",
      "metadata": {
        "id": "6VqK_1DeLrx1"
      },
      "source": [
        "# identify features that were important in getting synergy"
      ]
    },
    {
      "cell_type": "code",
      "execution_count": null,
      "metadata": {
        "id": "t7SoKiJKMMJa"
      },
      "outputs": [],
      "source": []
    },
    {
      "cell_type": "code",
      "execution_count": null,
      "metadata": {
        "colab": {
          "base_uri": "https://localhost:8080/"
        },
        "id": "wJcWbmnlLq1T",
        "outputId": "fcbaaec7-1337-41c2-b555-5b3a47b4eeff"
      },
      "outputs": [
        {
          "name": "stdout",
          "output_type": "stream",
          "text": [
            "Top 10 important features:\n",
            "                     Feature  Importance\n",
            "1584  Joint_Substructure_134    0.019141\n",
            "1269                    1269    0.017620\n",
            "349                      349    0.016102\n",
            "398                      398    0.015894\n",
            "1423                    1423    0.015875\n",
            "257                      257    0.013039\n",
            "224                      224    0.011297\n",
            "989                      989    0.010989\n",
            "1500   Joint_Substructure_50    0.010775\n",
            "1553  Joint_Substructure_103    0.010557\n"
          ]
        }
      ],
      "source": [
        "import pandas as pd\n",
        "from sklearn.ensemble import RandomForestClassifier\n",
        "\n",
        "# Assuming you have already trained your random forest model 'rf'\n",
        "# and your dataset is in a DataFrame 'data'\n",
        "\n",
        "# Get the feature names\n",
        "feature_names = df1.drop(['Drug 1', 'Drug2', 'Combination', 'Synergy'], axis=1).columns\n",
        "\n",
        "# Get the feature importance scores\n",
        "importances = rf.feature_importances_\n",
        "\n",
        "# Create a DataFrame with feature names and importance scores\n",
        "feature_importance = pd.DataFrame({'Feature': feature_names, 'Importance': importances})\n",
        "\n",
        "# Sort the features by importance in descending order\n",
        "feature_importance = feature_importance.sort_values('Importance', ascending=False)\n",
        "\n",
        "# Print the top N important features\n",
        "N = 10  # Number of top features to display\n",
        "print(f\"Top {N} important features:\")\n",
        "print(feature_importance.head(N))"
      ]
    },
    {
      "cell_type": "code",
      "execution_count": null,
      "metadata": {
        "id": "LFh8CLsJL9kC"
      },
      "outputs": [],
      "source": [
        "feature_importance.to_csv('important_features.csv')"
      ]
    }
  ],
  "metadata": {
    "colab": {
      "provenance": [],
      "authorship_tag": "ABX9TyP0uyatUcZliCbK7A7oINNx",
      "include_colab_link": true
    },
    "kernelspec": {
      "display_name": "Python 3",
      "name": "python3"
    },
    "language_info": {
      "name": "python"
    }
  },
  "nbformat": 4,
  "nbformat_minor": 0
}