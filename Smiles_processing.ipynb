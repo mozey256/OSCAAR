{
  "cells": [
    {
      "cell_type": "markdown",
      "metadata": {
        "colab_type": "text",
        "id": "view-in-github"
      },
      "source": [
        "<a href=\"https://colab.research.google.com/github/mozey256/OSCAAR/blob/main/Smiles_processing.ipynb\" target=\"_parent\"><img src=\"https://colab.research.google.com/assets/colab-badge.svg\" alt=\"Open In Colab\"/></a>"
      ]
    },
    {
      "cell_type": "code",
      "execution_count": 1,
      "metadata": {
        "colab": {
          "base_uri": "https://localhost:8080/"
        },
        "id": "6mcYqofes2P-",
        "outputId": "d87b9a31-1f42-4178-d2f6-079563bc8a24"
      },
      "outputs": [
        {
          "name": "stdout",
          "output_type": "stream",
          "text": [
            "Defaulting to user installation because normal site-packages is not writeable\n",
            "Requirement already satisfied: rdkit in c:\\users\\moses\\appdata\\roaming\\python\\python310\\site-packages (2023.9.5)\n",
            "Requirement already satisfied: numpy in c:\\users\\moses\\appdata\\roaming\\python\\python310\\site-packages (from rdkit) (1.23.5)\n",
            "Requirement already satisfied: Pillow in c:\\users\\moses\\appdata\\roaming\\python\\python310\\site-packages (from rdkit) (9.5.0)\n"
          ]
        },
        {
          "name": "stderr",
          "output_type": "stream",
          "text": [
            "WARNING: Ignoring invalid distribution -atplotlib (c:\\users\\moses\\appdata\\roaming\\python\\python310\\site-packages)\n",
            "WARNING: Ignoring invalid distribution -atplotlib (c:\\users\\moses\\appdata\\roaming\\python\\python310\\site-packages)\n",
            "WARNING: Ignoring invalid distribution -atplotlib (c:\\users\\moses\\appdata\\roaming\\python\\python310\\site-packages)\n",
            "WARNING: Ignoring invalid distribution -atplotlib (c:\\users\\moses\\appdata\\roaming\\python\\python310\\site-packages)\n",
            "\n",
            "[notice] A new release of pip is available: 23.3.1 -> 24.0\n",
            "[notice] To update, run: python.exe -m pip install --upgrade pip\n"
          ]
        }
      ],
      "source": [
        "!pip install rdkit\n"
      ]
    },
    {
      "cell_type": "markdown",
      "metadata": {
        "id": "vO9oOukOs4Je"
      },
      "source": [
        "## PROCESSING THE DRUG STRUCTURAL DATA"
      ]
    },
    {
      "cell_type": "code",
      "execution_count": 2,
      "metadata": {
        "id": "AkWDDe-0s-8h"
      },
      "outputs": [],
      "source": [
        "import pandas as pd\n",
        "import numpy as np\n",
        "import seaborn as sn\n",
        "#---------------------- RDKit packages\n",
        "from rdkit.Chem import AllChem\n",
        "from rdkit.Chem import rdMolDescriptors\n",
        "from rdkit.Chem.Draw import IPythonConsole\n",
        "from rdkit.Chem import Draw\n",
        "from rdkit import DataStructs\n",
        "from rdkit.ML.Cluster import Butina\n",
        "from rdkit import Chem\n",
        "from rdkit.Chem import MACCSkeys\n",
        "#------------------- progress bar\n",
        "from tqdm import tqdm\n",
        "#------------------- hide warning\n",
        "import warnings\n",
        "warnings.filterwarnings('ignore')"
      ]
    },
    {
      "cell_type": "code",
      "execution_count": 4,
      "metadata": {
        "id": "6Lrb7RhwyyeL"
      },
      "outputs": [],
      "source": [
        "data = pd.read_csv('./Drug_smiles.csv')"
      ]
    },
    {
      "cell_type": "code",
      "execution_count": 5,
      "metadata": {
        "colab": {
          "base_uri": "https://localhost:8080/"
        },
        "id": "B-vZDCWtzCZo",
        "outputId": "22e9cff8-7ba7-42ac-fd02-e9c11c598d5c"
      },
      "outputs": [
        {
          "data": {
            "text/html": [
              "<div>\n",
              "<style scoped>\n",
              "    .dataframe tbody tr th:only-of-type {\n",
              "        vertical-align: middle;\n",
              "    }\n",
              "\n",
              "    .dataframe tbody tr th {\n",
              "        vertical-align: top;\n",
              "    }\n",
              "\n",
              "    .dataframe thead th {\n",
              "        text-align: right;\n",
              "    }\n",
              "</style>\n",
              "<table border=\"1\" class=\"dataframe\">\n",
              "  <thead>\n",
              "    <tr style=\"text-align: right;\">\n",
              "      <th></th>\n",
              "      <th>Drug_name</th>\n",
              "      <th>SMILES</th>\n",
              "    </tr>\n",
              "  </thead>\n",
              "  <tbody>\n",
              "    <tr>\n",
              "      <th>0</th>\n",
              "      <td>2aminobenzothiazole_conc3_T30</td>\n",
              "      <td>C1=CC=C2C(=C1)N=C(S2)N</td>\n",
              "    </tr>\n",
              "    <tr>\n",
              "      <th>1</th>\n",
              "      <td>2hydroxyethylhydrazine_conc3_T30</td>\n",
              "      <td>C(CO)NN</td>\n",
              "    </tr>\n",
              "    <tr>\n",
              "      <th>2</th>\n",
              "      <td>3aminotriazole_conc3_T30</td>\n",
              "      <td>C1=NNC(=N1)N</td>\n",
              "    </tr>\n",
              "    <tr>\n",
              "      <th>3</th>\n",
              "      <td>4hydroxytamoxifene_conc3_T30</td>\n",
              "      <td>CCC(=C(C1=CC=C(C=C1)O)C2=CC=C(C=C2)OCCN(C)C)C3...</td>\n",
              "    </tr>\n",
              "    <tr>\n",
              "      <th>4</th>\n",
              "      <td>A23187_conc3_T30</td>\n",
              "      <td>CC1CCC2(C(CC(C(O2)C(C)C(=O)C3=CC=CN3)C)C)OC1CC...</td>\n",
              "    </tr>\n",
              "  </tbody>\n",
              "</table>\n",
              "</div>"
            ],
            "text/plain": [
              "                          Drug_name  \\\n",
              "0     2aminobenzothiazole_conc3_T30   \n",
              "1  2hydroxyethylhydrazine_conc3_T30   \n",
              "2          3aminotriazole_conc3_T30   \n",
              "3      4hydroxytamoxifene_conc3_T30   \n",
              "4                  A23187_conc3_T30   \n",
              "\n",
              "                                              SMILES  \n",
              "0                             C1=CC=C2C(=C1)N=C(S2)N  \n",
              "1                                            C(CO)NN  \n",
              "2                                       C1=NNC(=N1)N  \n",
              "3  CCC(=C(C1=CC=C(C=C1)O)C2=CC=C(C=C2)OCCN(C)C)C3...  \n",
              "4  CC1CCC2(C(CC(C(O2)C(C)C(=O)C3=CC=CN3)C)C)OC1CC...  "
            ]
          },
          "execution_count": 5,
          "metadata": {},
          "output_type": "execute_result"
        }
      ],
      "source": [
        "data.head()"
      ]
    },
    {
      "cell_type": "code",
      "execution_count": 6,
      "metadata": {
        "colab": {
          "base_uri": "https://localhost:8080/"
        },
        "id": "blvo-hi43qUQ",
        "outputId": "74133326-2f04-4a44-a042-6a40fc61cd9f"
      },
      "outputs": [
        {
          "name": "stdout",
          "output_type": "stream",
          "text": [
            "<class 'pandas.core.frame.DataFrame'>\n",
            "RangeIndex: 125 entries, 0 to 124\n",
            "Data columns (total 2 columns):\n",
            " #   Column     Non-Null Count  Dtype \n",
            "---  ------     --------------  ----- \n",
            " 0   Drug_name  125 non-null    object\n",
            " 1   SMILES     124 non-null    object\n",
            "dtypes: object(2)\n",
            "memory usage: 2.1+ KB\n"
          ]
        }
      ],
      "source": [
        "data.info()"
      ]
    },
    {
      "cell_type": "code",
      "execution_count": 7,
      "metadata": {
        "colab": {
          "base_uri": "https://localhost:8080/"
        },
        "id": "JKhzMQfK4Az4",
        "outputId": "e689c340-296b-45de-c961-285a84641a2b"
      },
      "outputs": [
        {
          "data": {
            "text/html": [
              "<div>\n",
              "<style scoped>\n",
              "    .dataframe tbody tr th:only-of-type {\n",
              "        vertical-align: middle;\n",
              "    }\n",
              "\n",
              "    .dataframe tbody tr th {\n",
              "        vertical-align: top;\n",
              "    }\n",
              "\n",
              "    .dataframe thead th {\n",
              "        text-align: right;\n",
              "    }\n",
              "</style>\n",
              "<table border=\"1\" class=\"dataframe\">\n",
              "  <thead>\n",
              "    <tr style=\"text-align: right;\">\n",
              "      <th></th>\n",
              "      <th>Drug_name</th>\n",
              "      <th>SMILES</th>\n",
              "    </tr>\n",
              "  </thead>\n",
              "  <tbody>\n",
              "    <tr>\n",
              "      <th>count</th>\n",
              "      <td>125</td>\n",
              "      <td>124</td>\n",
              "    </tr>\n",
              "    <tr>\n",
              "      <th>unique</th>\n",
              "      <td>125</td>\n",
              "      <td>124</td>\n",
              "    </tr>\n",
              "    <tr>\n",
              "      <th>top</th>\n",
              "      <td>2aminobenzothiazole_conc3_T30</td>\n",
              "      <td>C1=CC=C2C(=C1)N=C(S2)N</td>\n",
              "    </tr>\n",
              "    <tr>\n",
              "      <th>freq</th>\n",
              "      <td>1</td>\n",
              "      <td>1</td>\n",
              "    </tr>\n",
              "  </tbody>\n",
              "</table>\n",
              "</div>"
            ],
            "text/plain": [
              "                            Drug_name                  SMILES\n",
              "count                             125                     124\n",
              "unique                            125                     124\n",
              "top     2aminobenzothiazole_conc3_T30  C1=CC=C2C(=C1)N=C(S2)N\n",
              "freq                                1                       1"
            ]
          },
          "execution_count": 7,
          "metadata": {},
          "output_type": "execute_result"
        }
      ],
      "source": [
        "data.describe()"
      ]
    },
    {
      "cell_type": "code",
      "execution_count": 14,
      "metadata": {},
      "outputs": [],
      "source": [
        "import pandas as pd\n",
        "from rdkit import Chem\n",
        "from rdkit.Chem import MACCSkeys\n",
        "\n",
        "# Define a class to compute MACCS keys\n",
        "class MACCS:\n",
        "    def __init__(self, data):\n",
        "        self.data = data\n",
        "        self.names = data['Drug_name']\n",
        "        self.smiles = data['SMILES']\n",
        "        self.mols = [self.get_mol_from_smiles(i) for i in self.smiles]\n",
        "    \n",
        "    def get_mol_from_smiles(self, smile):\n",
        "        if isinstance(smile, str):\n",
        "            return Chem.MolFromSmiles(smile)\n",
        "        else:\n",
        "            return None\n",
        "    \n",
        "    def compute_MACCS(self, name):\n",
        "        MACCS_list = []\n",
        "        header = ['bit' + str(i) for i in range(167)]\n",
        "        \n",
        "        for i in range(len(self.mols)):\n",
        "            if self.mols[i] is not None:\n",
        "                ds = list(MACCSkeys.GenMACCSKeys(self.mols[i]).ToBitString())\n",
        "                MACCS_list.append(ds)\n",
        "            else:\n",
        "                MACCS_list.append(['NaN']*167)\n",
        "        \n",
        "        df = pd.DataFrame(MACCS_list, columns=header)\n",
        "        df.insert(loc=0, column='Drug Name', value=self.names)\n",
        "        df.insert(loc=1, column='SMILES', value=self.smiles)\n",
        "        df.to_csv(name[:-4]+'_MACCS.csv', index=False)\n",
        "\n",
        "# Read the input file containing drug SMILES and drug names\n",
        "data = pd.read_csv('./Drug_smiles.csv')\n",
        "\n",
        "# Create an instance of the MACCS class and compute MACCS keys\n",
        "maccs_calculator = MACCS(data)\n",
        "maccs_calculator.compute_MACCS(\"output_file.csv\")"
      ]
    },
    {
      "cell_type": "code",
      "execution_count": 24,
      "metadata": {},
      "outputs": [],
      "source": [
        "data_Macc = pd.read_csv(\"./output_file_MACCS.csv\")"
      ]
    },
    {
      "cell_type": "code",
      "execution_count": 25,
      "metadata": {},
      "outputs": [
        {
          "data": {
            "text/html": [
              "<div>\n",
              "<style scoped>\n",
              "    .dataframe tbody tr th:only-of-type {\n",
              "        vertical-align: middle;\n",
              "    }\n",
              "\n",
              "    .dataframe tbody tr th {\n",
              "        vertical-align: top;\n",
              "    }\n",
              "\n",
              "    .dataframe thead th {\n",
              "        text-align: right;\n",
              "    }\n",
              "</style>\n",
              "<table border=\"1\" class=\"dataframe\">\n",
              "  <thead>\n",
              "    <tr style=\"text-align: right;\">\n",
              "      <th></th>\n",
              "      <th>Drug Name</th>\n",
              "      <th>SMILES</th>\n",
              "      <th>bit0</th>\n",
              "      <th>bit1</th>\n",
              "      <th>bit2</th>\n",
              "      <th>bit3</th>\n",
              "      <th>bit4</th>\n",
              "      <th>bit5</th>\n",
              "      <th>bit6</th>\n",
              "      <th>bit7</th>\n",
              "      <th>...</th>\n",
              "      <th>bit157</th>\n",
              "      <th>bit158</th>\n",
              "      <th>bit159</th>\n",
              "      <th>bit160</th>\n",
              "      <th>bit161</th>\n",
              "      <th>bit162</th>\n",
              "      <th>bit163</th>\n",
              "      <th>bit164</th>\n",
              "      <th>bit165</th>\n",
              "      <th>bit166</th>\n",
              "    </tr>\n",
              "  </thead>\n",
              "  <tbody>\n",
              "    <tr>\n",
              "      <th>0</th>\n",
              "      <td>2aminobenzothiazole_conc3_T30</td>\n",
              "      <td>C1=CC=C2C(=C1)N=C(S2)N</td>\n",
              "      <td>0</td>\n",
              "      <td>0</td>\n",
              "      <td>0</td>\n",
              "      <td>0</td>\n",
              "      <td>0</td>\n",
              "      <td>0</td>\n",
              "      <td>0</td>\n",
              "      <td>0</td>\n",
              "      <td>...</td>\n",
              "      <td>0</td>\n",
              "      <td>1</td>\n",
              "      <td>0</td>\n",
              "      <td>0</td>\n",
              "      <td>1</td>\n",
              "      <td>1</td>\n",
              "      <td>1</td>\n",
              "      <td>0</td>\n",
              "      <td>1</td>\n",
              "      <td>0</td>\n",
              "    </tr>\n",
              "    <tr>\n",
              "      <th>1</th>\n",
              "      <td>2hydroxyethylhydrazine_conc3_T30</td>\n",
              "      <td>C(CO)NN</td>\n",
              "      <td>0</td>\n",
              "      <td>0</td>\n",
              "      <td>0</td>\n",
              "      <td>0</td>\n",
              "      <td>0</td>\n",
              "      <td>0</td>\n",
              "      <td>0</td>\n",
              "      <td>0</td>\n",
              "      <td>...</td>\n",
              "      <td>1</td>\n",
              "      <td>1</td>\n",
              "      <td>0</td>\n",
              "      <td>0</td>\n",
              "      <td>1</td>\n",
              "      <td>0</td>\n",
              "      <td>0</td>\n",
              "      <td>1</td>\n",
              "      <td>0</td>\n",
              "      <td>0</td>\n",
              "    </tr>\n",
              "    <tr>\n",
              "      <th>2</th>\n",
              "      <td>3aminotriazole_conc3_T30</td>\n",
              "      <td>C1=NNC(=N1)N</td>\n",
              "      <td>0</td>\n",
              "      <td>0</td>\n",
              "      <td>0</td>\n",
              "      <td>0</td>\n",
              "      <td>0</td>\n",
              "      <td>0</td>\n",
              "      <td>0</td>\n",
              "      <td>0</td>\n",
              "      <td>...</td>\n",
              "      <td>0</td>\n",
              "      <td>1</td>\n",
              "      <td>0</td>\n",
              "      <td>0</td>\n",
              "      <td>1</td>\n",
              "      <td>1</td>\n",
              "      <td>0</td>\n",
              "      <td>0</td>\n",
              "      <td>1</td>\n",
              "      <td>0</td>\n",
              "    </tr>\n",
              "    <tr>\n",
              "      <th>3</th>\n",
              "      <td>4hydroxytamoxifene_conc3_T30</td>\n",
              "      <td>CCC(=C(C1=CC=C(C=C1)O)C2=CC=C(C=C2)OCCN(C)C)C3...</td>\n",
              "      <td>0</td>\n",
              "      <td>0</td>\n",
              "      <td>0</td>\n",
              "      <td>0</td>\n",
              "      <td>0</td>\n",
              "      <td>0</td>\n",
              "      <td>0</td>\n",
              "      <td>0</td>\n",
              "      <td>...</td>\n",
              "      <td>1</td>\n",
              "      <td>1</td>\n",
              "      <td>1</td>\n",
              "      <td>1</td>\n",
              "      <td>1</td>\n",
              "      <td>1</td>\n",
              "      <td>1</td>\n",
              "      <td>1</td>\n",
              "      <td>1</td>\n",
              "      <td>0</td>\n",
              "    </tr>\n",
              "    <tr>\n",
              "      <th>4</th>\n",
              "      <td>A23187_conc3_T30</td>\n",
              "      <td>CC1CCC2(C(CC(C(O2)C(C)C(=O)C3=CC=CN3)C)C)OC1CC...</td>\n",
              "      <td>0</td>\n",
              "      <td>0</td>\n",
              "      <td>0</td>\n",
              "      <td>0</td>\n",
              "      <td>0</td>\n",
              "      <td>0</td>\n",
              "      <td>0</td>\n",
              "      <td>0</td>\n",
              "      <td>...</td>\n",
              "      <td>1</td>\n",
              "      <td>1</td>\n",
              "      <td>1</td>\n",
              "      <td>1</td>\n",
              "      <td>1</td>\n",
              "      <td>1</td>\n",
              "      <td>1</td>\n",
              "      <td>1</td>\n",
              "      <td>1</td>\n",
              "      <td>0</td>\n",
              "    </tr>\n",
              "  </tbody>\n",
              "</table>\n",
              "<p>5 rows × 169 columns</p>\n",
              "</div>"
            ],
            "text/plain": [
              "                          Drug Name  \\\n",
              "0     2aminobenzothiazole_conc3_T30   \n",
              "1  2hydroxyethylhydrazine_conc3_T30   \n",
              "2          3aminotriazole_conc3_T30   \n",
              "3      4hydroxytamoxifene_conc3_T30   \n",
              "4                  A23187_conc3_T30   \n",
              "\n",
              "                                              SMILES  bit0  bit1  bit2  bit3  \\\n",
              "0                             C1=CC=C2C(=C1)N=C(S2)N     0     0     0     0   \n",
              "1                                            C(CO)NN     0     0     0     0   \n",
              "2                                       C1=NNC(=N1)N     0     0     0     0   \n",
              "3  CCC(=C(C1=CC=C(C=C1)O)C2=CC=C(C=C2)OCCN(C)C)C3...     0     0     0     0   \n",
              "4  CC1CCC2(C(CC(C(O2)C(C)C(=O)C3=CC=CN3)C)C)OC1CC...     0     0     0     0   \n",
              "\n",
              "   bit4  bit5  bit6  bit7  ...  bit157  bit158  bit159  bit160  bit161  \\\n",
              "0     0     0     0     0  ...       0       1       0       0       1   \n",
              "1     0     0     0     0  ...       1       1       0       0       1   \n",
              "2     0     0     0     0  ...       0       1       0       0       1   \n",
              "3     0     0     0     0  ...       1       1       1       1       1   \n",
              "4     0     0     0     0  ...       1       1       1       1       1   \n",
              "\n",
              "   bit162  bit163  bit164  bit165  bit166  \n",
              "0       1       1       0       1       0  \n",
              "1       0       0       1       0       0  \n",
              "2       1       0       0       1       0  \n",
              "3       1       1       1       1       0  \n",
              "4       1       1       1       1       0  \n",
              "\n",
              "[5 rows x 169 columns]"
            ]
          },
          "execution_count": 25,
          "metadata": {},
          "output_type": "execute_result"
        }
      ],
      "source": [
        "data_Macc.head()"
      ]
    },
    {
      "cell_type": "code",
      "execution_count": 26,
      "metadata": {},
      "outputs": [],
      "source": [
        "# Specify the columns to be deleted\n",
        "columns_to_delete = ['SMILES']\n",
        "\n",
        "# Drop the specified columns\n",
        "data_Macc = data_Macc.drop(columns=columns_to_delete)"
      ]
    },
    {
      "cell_type": "code",
      "execution_count": 31,
      "metadata": {},
      "outputs": [],
      "source": [
        "import pandas as pd\n",
        "import itertools\n",
        "\n",
        "# Load the combined data from a CSV file (replace 'MACCS.csv' with your file path)\n",
        "data3 = data_Macc\n",
        "\n",
        "# Extract drug names and substructure data\n",
        "drug_names = data3['Drug Name'].tolist()\n",
        "substructure_data = data3.drop(columns=['Drug Name'])\n",
        "\n",
        "# Convert Boolean data to integers (True=1, False=0)\n",
        "substructure_data = substructure_data.astype(int)\n",
        "\n",
        "# Generate all possible combinations of 2 drugs (171 combinations)\n",
        "combinations = list(itertools.combinations(drug_names, 2))\n",
        "\n",
        "# Create a list to store joint substructure profiles\n",
        "joint_profiles_list = []\n",
        "\n",
        "# Calculate joint substructure profiles for each combination\n",
        "for combo in combinations:\n",
        "    drug1, drug2 = combo\n",
        "    substructure_profile1 = substructure_data.loc[data3['Drug Name'] == drug1].values[0][1:]\n",
        "    substructure_profile2 = substructure_data.loc[data3['Drug Name'] == drug2].values[0][1:]\n",
        "    joint_profile = (substructure_profile1 + substructure_profile2)/2\n",
        "\n",
        "    # Append the combination names and joint profile to the list\n",
        "    joint_profiles_list.append([drug1, drug2] + joint_profile.tolist())\n",
        "\n",
        "# Create a DataFrame from the list\n",
        "columns = ['Drug1', 'Drug2'] + [f'Joint_Substructure_{i}' for i in range(1, len(joint_profile) + 1)]\n",
        "joint_profiles_df = pd.DataFrame(joint_profiles_list, columns=columns)\n",
        "\n",
        "# Save the DataFrame to a CSV file\n",
        "joint_profiles_df.to_csv('joint_substructures.csv',index=False)"
      ]
    },
    {
      "cell_type": "code",
      "execution_count": 37,
      "metadata": {},
      "outputs": [],
      "source": [
        "import pandas as pd\n",
        "import itertools\n",
        "from rdkit.Chem import MACCSkeys\n",
        "\n",
        "# Assuming 'data_Macc' is your DataFrame containing MACCS keys data\n",
        "data3 = data_Macc\n",
        "\n",
        "# Extract drug names and MACCS keys data\n",
        "drug_names = data3['Drug Name'].tolist()\n",
        "maccs_data = data3.drop(columns=['Drug Name'])\n",
        "\n",
        "# Generate all possible combinations of 2 drugs\n",
        "combinations = list(itertools.combinations(drug_names, 2))\n",
        "\n",
        "# Create a list to store joint substructure profiles\n",
        "joint_profiles_list = []\n",
        "\n",
        "# Calculate joint substructure profiles for each combination\n",
        "for combo in combinations:\n",
        "    drug1, drug2 = combo\n",
        "    maccs_profile1 = maccs_data.loc[data3['Drug Name'] == drug1].values[0][1:]\n",
        "    maccs_profile2 = maccs_data.loc[data3['Drug Name'] == drug2].values[0][1:]\n",
        "    joint_profile = (maccs_profile1 + maccs_profile2) / 2\n",
        "\n",
        "    # Append the combination names and joint profile to the list\n",
        "    joint_profiles_list.append([drug1, drug2, '+'.join(combo)] + joint_profile.tolist())\n",
        "\n",
        "# Create a DataFrame from the list\n",
        "columns = ['Drug1', 'Drug2', 'Combination'] + [f'Joint_Substructure_{i}' for i in range(1, len(joint_profile) + 1)]\n",
        "joint_profiles_df = pd.DataFrame(joint_profiles_list, columns=columns)\n",
        "\n",
        "# Save the DataFrame to a CSV file\n",
        "joint_profiles_df.to_csv('joint_substructures.csv', index=False)\n"
      ]
    },
    {
      "cell_type": "code",
      "execution_count": 38,
      "metadata": {},
      "outputs": [],
      "source": [
        "data4 = pd.read_csv(\"./joint_substructures.csv\")"
      ]
    },
    {
      "cell_type": "code",
      "execution_count": 39,
      "metadata": {},
      "outputs": [],
      "source": [
        "# Filter rows containing 'fluconazole'\n",
        "df_fluco = data4[data4['Combination'].str.contains('fluconazole_conc2_T30')]\n",
        "\n",
        "# Write the filtered dataset to a new file\n",
        "df_fluco.to_csv('fluconazole_dataset.csv', index=False)\n"
      ]
    },
    {
      "cell_type": "code",
      "execution_count": null,
      "metadata": {},
      "outputs": [],
      "source": [
        "# Filter rows containing 'geldanamycin'\n",
        "\n",
        "df_geldanamycin = data4[data4['Combination'].str.contains('geldanamycin_conc3_T30')]\n",
        "\n",
        "# Write the filtered dataset to a new file\n",
        "df_geldanamycin.to_csv('geldanamycin.csv', index=False)"
      ]
    }
  ],
  "metadata": {
    "colab": {
      "authorship_tag": "ABX9TyNJ+0Lo2ynEKKrpGOBH/34N",
      "include_colab_link": true,
      "provenance": []
    },
    "kernelspec": {
      "display_name": "Python 3",
      "name": "python3"
    },
    "language_info": {
      "codemirror_mode": {
        "name": "ipython",
        "version": 3
      },
      "file_extension": ".py",
      "mimetype": "text/x-python",
      "name": "python",
      "nbconvert_exporter": "python",
      "pygments_lexer": "ipython3",
      "version": "3.10.11"
    }
  },
  "nbformat": 4,
  "nbformat_minor": 0
}
